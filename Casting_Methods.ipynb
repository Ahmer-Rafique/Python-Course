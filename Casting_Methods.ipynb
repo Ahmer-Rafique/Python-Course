{
 "cells": [
  {
   "cell_type": "markdown",
   "metadata": {},
   "source": [
    "Change casting"
   ]
  },
  {
   "cell_type": "code",
   "execution_count": 1,
   "metadata": {},
   "outputs": [
    {
     "name": "stdout",
     "output_type": "stream",
     "text": [
      "<class 'int'>\n",
      "<class 'float'>\n",
      "<class 'str'>\n"
     ]
    }
   ],
   "source": [
    "a = 2;\n",
    "b = 2.7;\n",
    "c = \"4\";\n",
    "print(type(a));\n",
    "print(type(b));\n",
    "print(type(c));"
   ]
  },
  {
   "cell_type": "markdown",
   "metadata": {},
   "source": [
    "change all type in int"
   ]
  },
  {
   "cell_type": "code",
   "execution_count": 2,
   "metadata": {},
   "outputs": [
    {
     "name": "stdout",
     "output_type": "stream",
     "text": [
      "<class 'int'>\n",
      "<class 'int'>\n",
      "<class 'int'>\n"
     ]
    }
   ],
   "source": [
    "a =int( 2);\n",
    "b = int(2.70);\n",
    "c = int(\"4\");\n",
    "print(type(a));\n",
    "print(type(b));\n",
    "print(type(c));"
   ]
  },
  {
   "cell_type": "markdown",
   "metadata": {},
   "source": [
    "Change All type in str"
   ]
  },
  {
   "cell_type": "code",
   "execution_count": 3,
   "metadata": {},
   "outputs": [
    {
     "name": "stdout",
     "output_type": "stream",
     "text": [
      "<class 'str'>\n",
      "<class 'str'>\n",
      "<class 'str'>\n"
     ]
    }
   ],
   "source": [
    "a = str(2);\n",
    "b = str(2.7);\n",
    "c = str(\"4\");\n",
    "print(type(a));\n",
    "print(type(b));\n",
    "print(type(c));"
   ]
  }
 ],
 "metadata": {
  "kernelspec": {
   "display_name": "Python 3",
   "language": "python",
   "name": "python3"
  },
  "language_info": {
   "codemirror_mode": {
    "name": "ipython",
    "version": 3
   },
   "file_extension": ".py",
   "mimetype": "text/x-python",
   "name": "python",
   "nbconvert_exporter": "python",
   "pygments_lexer": "ipython3",
   "version": "3.12.4"
  }
 },
 "nbformat": 4,
 "nbformat_minor": 2
}
