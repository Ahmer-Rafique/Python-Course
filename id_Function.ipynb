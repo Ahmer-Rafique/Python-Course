{
 "cells": [
  {
   "cell_type": "markdown",
   "metadata": {},
   "source": [
    "*** id Function ***"
   ]
  },
  {
   "cell_type": "code",
   "execution_count": 2,
   "metadata": {},
   "outputs": [
    {
     "name": "stdout",
     "output_type": "stream",
     "text": [
      "2419113393712\n",
      "140704606321656\n",
      "140704605528496\n",
      "Ahmar Ali\n",
      "19\n",
      "False\n"
     ]
    }
   ],
   "source": [
    "nam1:str=\"Ahmar Ali\";\n",
    "age:int=19;\n",
    "isMerried:bool=False;\n",
    "print(id(nam1));\n",
    "print(id(age));\n",
    "print(id(isMerried));\n",
    "print(nam1);\n",
    "print(age);\n",
    "print(isMerried);"
   ]
  }
 ],
 "metadata": {
  "kernelspec": {
   "display_name": "Python 3",
   "language": "python",
   "name": "python3"
  },
  "language_info": {
   "codemirror_mode": {
    "name": "ipython",
    "version": 3
   },
   "file_extension": ".py",
   "mimetype": "text/x-python",
   "name": "python",
   "nbconvert_exporter": "python",
   "pygments_lexer": "ipython3",
   "version": "3.12.4"
  }
 },
 "nbformat": 4,
 "nbformat_minor": 2
}
