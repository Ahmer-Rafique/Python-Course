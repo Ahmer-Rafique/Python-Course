{
 "cells": [
  {
   "cell_type": "markdown",
   "metadata": {},
   "source": [
    "*** Assingment Operators ***"
   ]
  },
  {
   "cell_type": "code",
   "execution_count": 1,
   "metadata": {},
   "outputs": [
    {
     "name": "stdout",
     "output_type": "stream",
     "text": [
      "6\n",
      "13\n",
      "10\n",
      "2.0\n",
      "2.0\n",
      "32.0\n"
     ]
    }
   ],
   "source": [
    "a = 6;\n",
    "print(a);\n",
    "a += 7;\n",
    "print(a);\n",
    "a-= 3;\n",
    "print(a);\n",
    "a/=5;\n",
    "print(a);\n",
    "a%=7;\n",
    "print(a);\n",
    "a**=5;\n",
    "print(a);"
   ]
  }
 ],
 "metadata": {
  "kernelspec": {
   "display_name": "Python 3",
   "language": "python",
   "name": "python3"
  },
  "language_info": {
   "codemirror_mode": {
    "name": "ipython",
    "version": 3
   },
   "file_extension": ".py",
   "mimetype": "text/x-python",
   "name": "python",
   "nbconvert_exporter": "python",
   "pygments_lexer": "ipython3",
   "version": "3.12.4"
  }
 },
 "nbformat": 4,
 "nbformat_minor": 2
}
