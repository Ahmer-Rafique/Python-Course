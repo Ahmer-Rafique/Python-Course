{
 "cells": [
  {
   "cell_type": "markdown",
   "metadata": {},
   "source": [
    "String Methods"
   ]
  },
  {
   "cell_type": "code",
   "execution_count": 3,
   "metadata": {},
   "outputs": [
    {
     "name": "stdout",
     "output_type": "stream",
     "text": [
      "Orignal State =  ahmar ali\n",
      "Upper Case =  AHMAR ALI\n",
      "Lower Case =  ahmar ali\n",
      "Title Case =  Ahmar Ali\n",
      "Capitalize Case =  Ahmar ali\n"
     ]
    }
   ],
   "source": [
    "Name:str=\"ahmar ali\";\n",
    "print(\"Orignal State = \" , Name);\n",
    "print(\"Upper Case = \" , Name.upper());\n",
    "print(\"Lower Case = \", Name.lower());\n",
    "print(\"Title Case = \", Name.title());\n",
    "print(\"Capitalize Case = \", Name.capitalize());"
   ]
  },
  {
   "cell_type": "markdown",
   "metadata": {},
   "source": [
    "Concatinate String Method "
   ]
  },
  {
   "cell_type": "code",
   "execution_count": 4,
   "metadata": {},
   "outputs": [
    {
     "name": "stdout",
     "output_type": "stream",
     "text": [
      "My Name is  Ahmar Ali\n"
     ]
    }
   ],
   "source": [
    "First_Name:str=\"Ahmar\";\n",
    "Second_Name:str=\"Ali\";\n",
    "Last_name:str=(f\"{First_Name} {Second_Name}\");\n",
    "print(\"My Name is \" ,Last_name);"
   ]
  },
  {
   "cell_type": "markdown",
   "metadata": {},
   "source": [
    "Add new Line and Tab Space in string"
   ]
  },
  {
   "cell_type": "code",
   "execution_count": 4,
   "metadata": {},
   "outputs": [
    {
     "name": "stdout",
     "output_type": "stream",
     "text": [
      "Hy Ahmar  How are you\n",
      "Hy Ahmar\n",
      "How are you\n",
      "Hy Ahmar\tHow are you\n"
     ]
    }
   ],
   "source": [
    "print (\"Hy Ahmar  How are you\") # orignal state\n",
    "print (\"Hy Ahmar\\nHow are you\") # New LIne\n",
    "print (\"Hy Ahmar\\tHow are you\") # Tab Space"
   ]
  }
 ],
 "metadata": {
  "kernelspec": {
   "display_name": "Python 3",
   "language": "python",
   "name": "python3"
  },
  "language_info": {
   "codemirror_mode": {
    "name": "ipython",
    "version": 3
   },
   "file_extension": ".py",
   "mimetype": "text/x-python",
   "name": "python",
   "nbconvert_exporter": "python",
   "pygments_lexer": "ipython3",
   "version": "3.12.4"
  }
 },
 "nbformat": 4,
 "nbformat_minor": 2
}
