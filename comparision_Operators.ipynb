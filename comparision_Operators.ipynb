{
 "cells": [
  {
   "cell_type": "markdown",
   "metadata": {},
   "source": [
    "*** Assingment Operators ***"
   ]
  },
  {
   "cell_type": "code",
   "execution_count": 3,
   "metadata": {},
   "outputs": [
    {
     "name": "stdout",
     "output_type": "stream",
     "text": [
      "True\n",
      "False\n",
      "True\n",
      "False\n",
      "False\n",
      "True\n"
     ]
    }
   ],
   "source": [
    "a = 10;\n",
    "b=15;\n",
    "# For greater than Operator\n",
    "print(a<b);\n",
    " # For less than operators\n",
    "print(a>b);\n",
    "# For Grater than or Equal Opertaor\n",
    "print(a<=b);\n",
    "# For less than or  equal OPeretor\n",
    "print(a>=b);\n",
    "# For Equal is to OPerator \n",
    "print(a==b);\n",
    "# For is not Equal to operator \n",
    "print(a!=b)"
   ]
  }
 ],
 "metadata": {
  "kernelspec": {
   "display_name": "Python 3",
   "language": "python",
   "name": "python3"
  },
  "language_info": {
   "codemirror_mode": {
    "name": "ipython",
    "version": 3
   },
   "file_extension": ".py",
   "mimetype": "text/x-python",
   "name": "python",
   "nbconvert_exporter": "python",
   "pygments_lexer": "ipython3",
   "version": "3.12.4"
  }
 },
 "nbformat": 4,
 "nbformat_minor": 2
}
