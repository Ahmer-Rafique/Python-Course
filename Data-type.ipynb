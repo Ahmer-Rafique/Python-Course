{
 "cells": [
  {
   "cell_type": "markdown",
   "metadata": {},
   "source": [
    "Variabels"
   ]
  },
  {
   "cell_type": "code",
   "execution_count": 2,
   "metadata": {},
   "outputs": [
    {
     "name": "stdout",
     "output_type": "stream",
     "text": [
      "Ahmar Ali\n",
      "19\n",
      "['Cricket', 'Programing', 'Generative Ai']\n"
     ]
    }
   ],
   "source": [
    "name = \"Ahmar Ali\";\n",
    "age = 19;\n",
    "Hobbies= [\"Cricket\", \"Programing\" , \"Generative Ai\"];\n",
    "print(name);\n",
    "print(age);\n",
    "print(Hobbies);"
   ]
  },
  {
   "cell_type": "markdown",
   "metadata": {},
   "source": [
    "Variables with most useful types"
   ]
  },
  {
   "cell_type": "code",
   "execution_count": 3,
   "metadata": {},
   "outputs": [
    {
     "name": "stdout",
     "output_type": "stream",
     "text": [
      "Muhammad Rafique\n",
      "42\n",
      "['Farming', 'trade', 'seller']\n",
      "57000.5\n",
      "('Ahmar', 'Mamoon')\n",
      "{'Wife': 'Fozia ', 'age': 40}\n",
      "2j\n"
     ]
    }
   ],
   "source": [
    "Name:str=\"Muhammad Rafique\";\n",
    "Age:int=42;\n",
    "hobbies:list=[\"Farming\", \"trade\" , \"seller\"];\n",
    "income:float= 57000.50; # Float used for decimal numbers;\n",
    "Sons_Name:tuple=(\"Ahmar\", \"Mamoon\");\n",
    "Obj:dict={\"Wife\": \"Fozia \", \"age\":40 };\n",
    "com:complex= 2j;\n",
    "print(Name);\n",
    "print(Age);\n",
    "print(hobbies);\n",
    "print(income);\n",
    "print(Sons_Name);\n",
    "print(Obj);\n",
    "print(com);"
   ]
  },
  {
   "cell_type": "markdown",
   "metadata": {},
   "source": [
    "id Function in python"
   ]
  },
  {
   "cell_type": "code",
   "execution_count": 4,
   "metadata": {},
   "outputs": [
    {
     "name": "stdout",
     "output_type": "stream",
     "text": [
      "2345746432944\n"
     ]
    }
   ],
   "source": [
    "Name = \"Ahmar ali\";\n",
    "print(id(Name));"
   ]
  }
 ],
 "metadata": {
  "kernelspec": {
   "display_name": "Python 3",
   "language": "python",
   "name": "python3"
  },
  "language_info": {
   "codemirror_mode": {
    "name": "ipython",
    "version": 3
   },
   "file_extension": ".py",
   "mimetype": "text/x-python",
   "name": "python",
   "nbconvert_exporter": "python",
   "pygments_lexer": "ipython3",
   "version": "3.12.4"
  }
 },
 "nbformat": 4,
 "nbformat_minor": 2
}
