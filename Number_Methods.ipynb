{
 "cells": [
  {
   "cell_type": "markdown",
   "metadata": {},
   "source": [
    "*** Number Methods ***"
   ]
  },
  {
   "cell_type": "code",
   "execution_count": 2,
   "metadata": {},
   "outputs": [
    {
     "name": "stdout",
     "output_type": "stream",
     "text": [
      "7 + 9  =  16\n",
      "7 - 9  =  -2\n",
      "7 x 9  =  63\n",
      "7 / 9  =  0.7777777777777778\n",
      "7 ^ 9  =  40353607\n"
     ]
    }
   ],
   "source": [
    "num1:int=7;\n",
    "num2:int=9;\n",
    "# For addition \n",
    "print(f\"{num1} + {num2}  = \" , num1 + num2);\n",
    "# For Subbtraction \n",
    "print(f\"{num1} - {num2}  = \" , num1 - num2);\n",
    "# For Multiplication\n",
    "print(f\"{num1} x {num2}  = \" , num1 * num2);\n",
    "# For Division\n",
    "print(f\"{num1} / {num2}  = \" , num1 / num2);\n",
    "# For Power Method\n",
    "print(f\"{num1} ^ {num2}  = \" , num1 ** num2);"
   ]
  }
 ],
 "metadata": {
  "kernelspec": {
   "display_name": "Python 3",
   "language": "python",
   "name": "python3"
  },
  "language_info": {
   "codemirror_mode": {
    "name": "ipython",
    "version": 3
   },
   "file_extension": ".py",
   "mimetype": "text/x-python",
   "name": "python",
   "nbconvert_exporter": "python",
   "pygments_lexer": "ipython3",
   "version": "3.12.4"
  }
 },
 "nbformat": 4,
 "nbformat_minor": 2
}
