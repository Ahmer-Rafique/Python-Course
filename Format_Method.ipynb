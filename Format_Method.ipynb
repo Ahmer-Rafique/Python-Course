{
 "cells": [
  {
   "cell_type": "markdown",
   "metadata": {},
   "source": [
    "Format Method"
   ]
  },
  {
   "cell_type": "code",
   "execution_count": 4,
   "metadata": {},
   "outputs": [
    {
     "name": "stdout",
     "output_type": "stream",
     "text": [
      "My name is Ahmar My age is 19. \n"
     ]
    }
   ],
   "source": [
    "name:str=\"My name is {} My age is {}. \".format(\"Ahmar\" , 19);\n",
    "print(name);"
   ]
  },
  {
   "cell_type": "markdown",
   "metadata": {},
   "source": [
    "By index "
   ]
  },
  {
   "cell_type": "code",
   "execution_count": 6,
   "metadata": {},
   "outputs": [
    {
     "name": "stdout",
     "output_type": "stream",
     "text": [
      "My first name is Ali my second name is Ahmar my age is 19\n"
     ]
    }
   ],
   "source": [
    "name1:str=\"My first name is {0} my second name is {1} my age is {2}\".format(\"Ahmar\", \"Ali\" , 19)\n",
    "print(name1);"
   ]
  },
  {
   "cell_type": "markdown",
   "metadata": {},
   "source": [
    "by parameter"
   ]
  },
  {
   "cell_type": "code",
   "execution_count": 9,
   "metadata": {},
   "outputs": [
    {
     "name": "stdout",
     "output_type": "stream",
     "text": [
      "My name is Ahmar my age is 19\n"
     ]
    }
   ],
   "source": [
    "name2:str=\"My name is {name} my age is {age}\".format(name=\"Ahmar\", age=19);\n",
    "print(name2);"
   ]
  }
 ],
 "metadata": {
  "kernelspec": {
   "display_name": "Python 3",
   "language": "python",
   "name": "python3"
  },
  "language_info": {
   "codemirror_mode": {
    "name": "ipython",
    "version": 3
   },
   "file_extension": ".py",
   "mimetype": "text/x-python",
   "name": "python",
   "nbconvert_exporter": "python",
   "pygments_lexer": "ipython3",
   "version": "3.12.4"
  }
 },
 "nbformat": 4,
 "nbformat_minor": 2
}
