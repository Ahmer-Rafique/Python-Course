{
 "cells": [
  {
   "cell_type": "markdown",
   "metadata": {},
   "source": [
    "Single Qoute"
   ]
  },
  {
   "cell_type": "code",
   "execution_count": 1,
   "metadata": {},
   "outputs": [
    {
     "name": "stdout",
     "output_type": "stream",
     "text": [
      "Ahmar Mamoon\n"
     ]
    }
   ],
   "source": [
    "a : str = 'Ahmar' + ' ' + 'Mamoon'\n",
    "print(a);"
   ]
  },
  {
   "cell_type": "code",
   "execution_count": 2,
   "metadata": {},
   "outputs": [
    {
     "name": "stdout",
     "output_type": "stream",
     "text": [
      "Hello  , What is your father's name ?\n"
     ]
    }
   ],
   "source": [
    "a : str = 'Hello  , What is your father\\'s name ?' # Use slash(\\) for use another single qoute in one sing qoute\n",
    "print(a)"
   ]
  },
  {
   "cell_type": "code",
   "execution_count": 3,
   "metadata": {},
   "outputs": [
    {
     "name": "stdout",
     "output_type": "stream",
     "text": [
      "MY name is Ahmar Ali My Fathe name is Muhammad RAfique\n"
     ]
    }
   ],
   "source": [
    "a : str = 'MY name is Ahmar Ali \\\n",
    "My Fathe name is Muhammad RAfique' # Use Slash (\\) for write  two or more  lines in single qoutes \n",
    "print(a);"
   ]
  },
  {
   "cell_type": "code",
   "execution_count": 4,
   "metadata": {},
   "outputs": [
    {
     "name": "stdout",
     "output_type": "stream",
     "text": [
      "MY name is Ahmar Ali \n",
      "My Fathe name is Muhammad RAfique\n"
     ]
    }
   ],
   "source": [
    "a : str = 'MY name is Ahmar Ali \\\n",
    "\\nMy Fathe name is Muhammad RAfique' \n",
    "print(a)"
   ]
  },
  {
   "cell_type": "markdown",
   "metadata": {},
   "source": [
    "Double Qoutes"
   ]
  },
  {
   "cell_type": "code",
   "execution_count": 6,
   "metadata": {},
   "outputs": [
    {
     "name": "stdout",
     "output_type": "stream",
     "text": [
      "Ahmar Ali Mamoon\n"
     ]
    }
   ],
   "source": [
    "a : str = \"Ahmar Ali\" + \" \"+ \"Mamoon\";\n",
    "print(a);"
   ]
  },
  {
   "cell_type": "code",
   "execution_count": 5,
   "metadata": {},
   "outputs": [
    {
     "name": "stdout",
     "output_type": "stream",
     "text": [
      "How are you what's your hobby\n"
     ]
    }
   ],
   "source": [
    "a : str = \"How are you what's your hobby\"\n",
    "print(a);"
   ]
  },
  {
   "cell_type": "code",
   "execution_count": 7,
   "metadata": {},
   "outputs": [
    {
     "name": "stdout",
     "output_type": "stream",
     "text": [
      "Hy how are you i am fine\n"
     ]
    }
   ],
   "source": [
    "a:str=\"Hy how are you \\\n",
    "i am fine\"\n",
    "print(a);"
   ]
  },
  {
   "cell_type": "code",
   "execution_count": 8,
   "metadata": {},
   "outputs": [
    {
     "name": "stdout",
     "output_type": "stream",
     "text": [
      "Hy how are you \n",
      "i am fine \n",
      "\t what is your father name\n"
     ]
    }
   ],
   "source": [
    "a:str=\"Hy how are you \\\n",
    "\\ni am fine\\\n",
    " \\n\\t what is your father name\"\n",
    "print(a);"
   ]
  },
  {
   "cell_type": "markdown",
   "metadata": {},
   "source": [
    "Three Qoutes"
   ]
  },
  {
   "cell_type": "code",
   "execution_count": 9,
   "metadata": {},
   "outputs": [
    {
     "name": "stdout",
     "output_type": "stream",
     "text": [
      " \n",
      "Hi , What's your,\n",
      "How are You ,\n",
      "What's your Father Name\n",
      "\n"
     ]
    }
   ],
   "source": [
    "a : str = ''' \n",
    "Hi , What's your,\n",
    "How are You ,\n",
    "What's your Father Name\n",
    "''';\n",
    "print(a);\n"
   ]
  },
  {
   "cell_type": "code",
   "execution_count": 10,
   "metadata": {},
   "outputs": [
    {
     "name": "stdout",
     "output_type": "stream",
     "text": [
      " \n",
      "Hi , What's your,\n",
      "How are You ,\n",
      "What's your Father Name\n",
      "\n"
     ]
    }
   ],
   "source": [
    "a:str=\"\"\" \n",
    "Hi , What's your,\n",
    "How are You ,\n",
    "What's your Father Name\n",
    "\"\"\";\n",
    "print(a);"
   ]
  }
 ],
 "metadata": {
  "kernelspec": {
   "display_name": "Python 3",
   "language": "python",
   "name": "python3"
  },
  "language_info": {
   "codemirror_mode": {
    "name": "ipython",
    "version": 3
   },
   "file_extension": ".py",
   "mimetype": "text/x-python",
   "name": "python",
   "nbconvert_exporter": "python",
   "pygments_lexer": "ipython3",
   "version": "3.12.4"
  }
 },
 "nbformat": 4,
 "nbformat_minor": 2
}
